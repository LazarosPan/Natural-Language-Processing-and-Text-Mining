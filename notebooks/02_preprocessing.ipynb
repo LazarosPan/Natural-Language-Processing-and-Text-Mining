{
 "cells": [
  {
   "cell_type": "code",
   "execution_count": 1,
   "id": "8e7334c8",
   "metadata": {},
   "outputs": [
    {
     "name": "stdout",
     "output_type": "stream",
     "text": [
      "Saved: [PosixPath('../data/processed/clean_questions.npy'), PosixPath('../data/processed/question_meta.csv'), PosixPath('../data/processed/question_embeddings.npy')]\n"
     ]
    }
   ],
   "source": [
    "# notebooks/02_preprocessing.ipynb\n",
    "\n",
    "%run setup.py\n",
    "\n",
    "import pandas as pd\n",
    "import numpy as np\n",
    "from pathlib import Path\n",
    "from src.preprocessing import clean_and_stats, build_st_embeddings\n",
    "\n",
    "RAW = \"../data/splits/train.csv\"\n",
    "OUT = Path(\"../data/processed\")\n",
    "OUT.mkdir(parents=True, exist_ok=True)\n",
    "\n",
    "# 1. Load *train* and derive the list of unique questions\n",
    "train_df = pd.read_csv(RAW)\n",
    "questions = pd.concat([train_df.question1, train_df.question2]).unique()\n",
    "\n",
    "# 2. Clean & collect stats\n",
    "cleaned, q_len, q_words = [], [], []\n",
    "for q in questions:\n",
    "    c, ln, wc = clean_and_stats(q)\n",
    "    cleaned.append(c)\n",
    "    q_len.append(ln)\n",
    "    q_words.append(wc)\n",
    "\n",
    "# 3. Generate embeddings using Sentence Transformers\n",
    "embeddings = build_st_embeddings(cleaned)\n",
    "\n",
    "# 4. Save artefacts\n",
    "# a) cleaned strings → keep order => numeric ID\n",
    "np.save(OUT / \"clean_questions.npy\", np.array(cleaned, dtype=object))\n",
    "\n",
    "# b) meta CSV for quick joins\n",
    "pd.DataFrame({\n",
    "    \"question\": questions,\n",
    "    \"clean\": cleaned,\n",
    "    \"len\": q_len,\n",
    "    \"words\": q_words,\n",
    "}).to_csv(OUT / \"question_meta.csv\", index=False)\n",
    "\n",
    "# c) embeddings\n",
    "np.save(OUT / \"question_embeddings.npy\", embeddings)\n",
    "\n",
    "print(\"Saved:\", list(OUT.iterdir()))"
   ]
  }
 ],
 "metadata": {
  "kernelspec": {
   "display_name": "data-science",
   "language": "python",
   "name": "python3"
  },
  "language_info": {
   "codemirror_mode": {
    "name": "ipython",
    "version": 3
   },
   "file_extension": ".py",
   "mimetype": "text/x-python",
   "name": "python",
   "nbconvert_exporter": "python",
   "pygments_lexer": "ipython3",
   "version": "3.13.3"
  }
 },
 "nbformat": 4,
 "nbformat_minor": 5
}
