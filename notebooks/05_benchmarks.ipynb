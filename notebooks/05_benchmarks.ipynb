{
 "cells": [
  {
   "cell_type": "code",
   "execution_count": null,
   "id": "ace3f771",
   "metadata": {},
   "outputs": [],
   "source": [
    "# ─────────────────────────────────────────────────────────────────────────────\n",
    "# 05_benchmarks.ipynb\n",
    "# ─────────────────────────────────────────────────────────────────────────────\n",
    "\n",
    "%run setup.py\n",
    "import numpy as np, pandas as pd, torch\n",
    "from pathlib import Path\n",
    "from src.pretrained_models import default_experts, MoEClassifier\n",
    "\n",
    "# ─────────────────────────────────────────────────────────────────────────────\n",
    "# 1) Load the indices of the experts that the MoE gate selected\n",
    "#    (these were saved under models/gates/moe_selected_idxs.npy)\n",
    "# ─────────────────────────────────────────────────────────────────────────────\n",
    "subset = np.load(\"models/gates/moe_selected_idxs.npy\").tolist()\n",
    "\n",
    "# ─────────────────────────────────────────────────────────────────────────────\n",
    "# 2) Instantiate exactly those experts in the same order as 'subset'\n",
    "#    Make sure 'lr_path' points to your QuoraDistilExpert LR pickle under models/pretrained/\n",
    "# ─────────────────────────────────────────────────────────────────────────────\n",
    "experts = default_experts(\n",
    "    emb_path=\"../data/processed/question_embeddings.npy\",\n",
    "    lr_path=\"../models/pretrained/quoradistil_lr.pkl\"\n",
    ")\n",
    "experts = [experts[i] for i in subset]\n",
    "\n",
    "# ─────────────────────────────────────────────────────────────────────────────\n",
    "# 3) Reconstruct the MoEClassifier, load the saved gate weights, then eval on TEST\n",
    "#    (the final gate state was saved under models/gates/final_moe_gate.pt)\n",
    "# ─────────────────────────────────────────────────────────────────────────────\n",
    "moe = MoEClassifier(experts, lr=1, epochs=0)\n",
    "moe.gate.load_state_dict(torch.load(\"models/gates/final_moe_gate.pt\", map_location=\"cpu\"))\n",
    "\n",
    "# ─────────────────────────────────────────────────────────────────────────────\n",
    "# 4) Load TEST split, run MoE predict, and print log‐loss / accuracy / F1\n",
    "# ─────────────────────────────────────────────────────────────────────────────\n",
    "test_df = pd.read_csv(\"../data/splits/test.csv\").dropna(subset=[\"question1\", \"question2\"])\n",
    "pairs   = list(zip(test_df.question1, test_df.question2))\n",
    "y_true  = test_df.is_duplicate.values.astype(int)\n",
    "\n",
    "from sklearn.metrics import log_loss, accuracy_score, f1_score\n",
    "\n",
    "p = moe.predict_prob(pairs)\n",
    "print(f\"TEST - LL {log_loss(y_true, p):.4f}  -  ACC {accuracy_score(y_true, p > 0.5):.4f}  -  F1 {f1_score(y_true, p > 0.5):.4f}\")"
   ]
  }
 ],
 "metadata": {
  "language_info": {
   "name": "python"
  }
 },
 "nbformat": 4,
 "nbformat_minor": 5
}
