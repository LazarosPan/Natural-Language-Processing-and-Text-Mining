{
 "cells": [
  {
   "cell_type": "code",
   "execution_count": null,
   "id": "ace3f771",
   "metadata": {},
   "outputs": [],
   "source": [
    "%run setup.py\n",
    "import numpy as np, pandas as pd, torch\n",
    "from pathlib import Path\n",
    "from src.models import default_experts, MoEClassifier\n",
    "\n",
    "subset = np.load(\"models/moe_selected_idxs.npy\").tolist()\n",
    "\n",
    "experts = default_experts(\n",
    "    emb_path=\"../data/processed/question_embeddings.npy\",\n",
    "    lr_path=\"models/sbert_lr.pkl\"\n",
    ")\n",
    "experts = [experts[i] for i in subset]\n",
    "\n",
    "moe = MoEClassifier(experts, lr=1, epochs=0)\n",
    "moe.gate.load_state_dict(torch.load(\"models/moe_gate_state.pt\", map_location=\"cpu\"))\n",
    "\n",
    "test_df = pd.read_csv(\"../data/splits/test.csv\").dropna()\n",
    "pairs   = list(zip(test_df.question1, test_df.question2))\n",
    "y_true  = test_df.is_duplicate.values.astype(int)\n",
    "\n",
    "from sklearn.metrics import log_loss, accuracy_score, f1_score\n",
    "p = moe.predict_prob(pairs)\n",
    "print(f\"TEST · LL {log_loss(y_true,p):.4f}  ·  ACC {accuracy_score(y_true,p>0.5):.4f}  ·  F1 {f1_score(y_true,p>0.5):.4f}\")"
   ]
  }
 ],
 "metadata": {
  "language_info": {
   "name": "python"
  }
 },
 "nbformat": 4,
 "nbformat_minor": 5
}
