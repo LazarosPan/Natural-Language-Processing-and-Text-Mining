{
 "cells": [
  {
   "cell_type": "code",
   "execution_count": 1,
   "id": "1645ca63",
   "metadata": {
    "execution": {
     "iopub.execute_input": "2025-06-02T20:22:27.376432Z",
     "iopub.status.busy": "2025-06-02T20:22:27.376226Z",
     "iopub.status.idle": "2025-06-02T20:22:28.714119Z",
     "shell.execute_reply": "2025-06-02T20:22:28.713774Z"
    }
   },
   "outputs": [
    {
     "name": "stdout",
     "output_type": "stream",
     "text": [
      "Saved splits to: [PosixPath('../data/splits/train.csv'), PosixPath('../data/splits/valid.csv'), PosixPath('../data/splits/test.csv')]\n",
      "Split durations logged to metric_logs/splits.txt (took 1.05s).\n"
     ]
    }
   ],
   "source": [
    "# 0) Setup\n",
    "# ─────────────────────────────────────────────────────────────────────────────\n",
    "%run setup.py  # adds project root and src/ to sys.path, exposes log_event, LogKind\n",
    "\n",
    "import time\n",
    "import pandas as pd\n",
    "from sklearn.model_selection import GroupShuffleSplit\n",
    "from pathlib import Path\n",
    "from src.logs import log_event, LogKind  # noqa: F401\n",
    "\n",
    "# 1) Timing & load\n",
    "# ─────────────────────────────────────────────────────────────────────────────\n",
    "start_time = time.time()\n",
    "df = pd.read_csv(\"../data/quora.csv\")  # original QQP data\n",
    "\n",
    "# 2) Group‐aware splitting key\n",
    "# ─────────────────────────────────────────────────────────────────────────────\n",
    "# Ensure no question ID leaks across splits\n",
    "df[\"group\"] = df[[\"qid1\", \"qid2\"]].min(axis=1)\n",
    "\n",
    "# 3) 80 / 10 / 10 train/valid/test split\n",
    "# ─────────────────────────────────────────────────────────────────────────────\n",
    "gss = GroupShuffleSplit(n_splits=1, test_size=0.20, random_state=13)\n",
    "train_idx, temp_idx = next(\n",
    "    gss.split(df, df[\"is_duplicate\"], df[\"group\"])\n",
    ")\n",
    "df_train = df.iloc[train_idx].reset_index(drop=True)\n",
    "df_temp  = df.iloc[temp_idx].reset_index(drop=True)\n",
    "\n",
    "gss2 = GroupShuffleSplit(n_splits=1, test_size=0.50, random_state=13)\n",
    "valid_idx, test_idx = next(\n",
    "    gss2.split(df_temp, df_temp[\"is_duplicate\"], df_temp[\"group\"])\n",
    ")\n",
    "df_valid = df_temp.iloc[valid_idx].reset_index(drop=True)\n",
    "df_test  = df_temp.iloc[test_idx].reset_index(drop=True)\n",
    "\n",
    "# 4) Save splits\n",
    "# ─────────────────────────────────────────────────────────────────────────────\n",
    "out_dir = Path(\"../data/splits\")\n",
    "out_dir.mkdir(parents=True, exist_ok=True)\n",
    "df_train.to_csv(out_dir / \"train.csv\", index=False)\n",
    "df_valid.to_csv(out_dir / \"valid.csv\", index=False)\n",
    "df_test.to_csv(out_dir / \"test.csv\", index=False)\n",
    "\n",
    "# 5) Log split information\n",
    "# ─────────────────────────────────────────────────────────────────────────────\n",
    "split_time = time.time() - start_time\n",
    "log_event(\n",
    "    LogKind.SPLIT,\n",
    "    train_count=len(df_train),\n",
    "    valid_count=len(df_valid),\n",
    "    test_count=len(df_test),\n",
    "    duration_s=f\"{split_time:.2f}\"\n",
    ")\n",
    "\n",
    "print(\"Saved splits to:\", list(out_dir.iterdir()))\n",
    "print(f\"Split durations logged to metric_logs/splits.txt (took {split_time:.2f}s).\")"
   ]
  }
 ],
 "metadata": {
  "kernelspec": {
   "display_name": "data-science",
   "language": "python",
   "name": "python3"
  },
  "language_info": {
   "codemirror_mode": {
    "name": "ipython",
    "version": 3
   },
   "file_extension": ".py",
   "mimetype": "text/x-python",
   "name": "python",
   "nbconvert_exporter": "python",
   "pygments_lexer": "ipython3",
   "version": "3.13.3"
  }
 },
 "nbformat": 4,
 "nbformat_minor": 5
}
