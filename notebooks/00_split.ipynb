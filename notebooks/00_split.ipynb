{
 "cells": [
  {
   "cell_type": "code",
   "execution_count": 1,
   "id": "1645ca63",
   "metadata": {},
   "outputs": [
    {
     "name": "stdout",
     "output_type": "stream",
     "text": [
      "Saved: [PosixPath('../data/splits/train.csv'), PosixPath('../data/splits/valid.csv'), PosixPath('../data/splits/test.csv')]\n"
     ]
    }
   ],
   "source": [
    "%run setup.py  ← adds project root to sys.path\n",
    "import pandas as pd\n",
    "from sklearn.model_selection import GroupShuffleSplit\n",
    "from pathlib import Path\n",
    "\n",
    "# 1. Load full dataset\n",
    "df = pd.read_csv(\"../data/quora.csv\")\n",
    "\n",
    "# 2. Build a *group* key so that a physical question\n",
    "#    (qid appears as qid1 or qid2) cannot leak across folds.\n",
    "df[\"group\"] = df[[\"qid1\", \"qid2\"]].min(axis=1)\n",
    "\n",
    "# 3. 80 / 10 / 10 split  (train / valid / test)\n",
    "gss = GroupShuffleSplit(n_splits=1, test_size=0.2, random_state=42)\n",
    "train_idx, temp_idx = next(gss.split(df, df[\"is_duplicate\"], df[\"group\"]))\n",
    "\n",
    "df_train = df.iloc[train_idx].reset_index(drop=True)\n",
    "df_temp  = df.iloc[temp_idx].reset_index(drop=True)\n",
    "\n",
    "gss2 = GroupShuffleSplit(n_splits=1, test_size=0.5, random_state=42)\n",
    "valid_idx, test_idx = next(gss2.split(df_temp, df_temp[\"is_duplicate\"], df_temp[\"group\"]))\n",
    "df_valid = df_temp.iloc[valid_idx].reset_index(drop=True)\n",
    "df_test  = df_temp.iloc[test_idx].reset_index(drop=True)\n",
    "\n",
    "# 4. Save\n",
    "out_dir = Path(\"../data/splits\")\n",
    "out_dir.mkdir(parents=True, exist_ok=True)\n",
    "df_train.to_csv(out_dir / \"train.csv\", index=False)\n",
    "df_valid.to_csv(out_dir / \"valid.csv\", index=False)\n",
    "df_test.to_csv(out_dir / \"test.csv\",  index=False)\n",
    "\n",
    "print(\"Saved:\", list(out_dir.iterdir()))\n"
   ]
  }
 ],
 "metadata": {
  "kernelspec": {
   "display_name": "data-science",
   "language": "python",
   "name": "python3"
  },
  "language_info": {
   "codemirror_mode": {
    "name": "ipython",
    "version": 3
   },
   "file_extension": ".py",
   "mimetype": "text/x-python",
   "name": "python",
   "nbconvert_exporter": "python",
   "pygments_lexer": "ipython3",
   "version": "3.13.3"
  }
 },
 "nbformat": 4,
 "nbformat_minor": 5
}
